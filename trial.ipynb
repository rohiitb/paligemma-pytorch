{
 "cells": [
  {
   "cell_type": "code",
   "execution_count": 1,
   "metadata": {},
   "outputs": [],
   "source": [
    "import torch"
   ]
  },
  {
   "cell_type": "code",
   "execution_count": 14,
   "metadata": {},
   "outputs": [
    {
     "name": "stdout",
     "output_type": "stream",
     "text": [
      "probs: tensor([0.8500, 0.7300, 0.7600, 0.0100, 0.2100])\n",
      "prob_sort: tensor([0.8500, 0.7600, 0.7300, 0.2100, 0.0100])\n",
      "prob_idx: tensor([0, 2, 1, 4, 3])\n",
      "cum_prob: tensor([0.8500, 1.6100, 2.3400, 2.5500, 2.5600])\n",
      "p: 0.5\n",
      "diff: tensor([0.0000, 0.8500, 1.6100, 2.3400, 2.5500])\n",
      "mask: tensor([False,  True,  True,  True,  True])\n",
      "prob_sort after masking: tensor([0.8500, 0.0000, 0.0000, 0.0000, 0.0000])\n",
      "prob_sort after normalization: tensor([1., 0., 0., 0., 0.])\n",
      "next_token: tensor([0])\n",
      "next_token: tensor([0])\n"
     ]
    }
   ],
   "source": [
    "probs = torch.tensor([0.85, 0.73, 0.76, 0.01, 0.21])\n",
    "print(\"probs:\", probs)\n",
    "\n",
    "prob_sort, prob_idx = torch.sort(probs, dim=-1,descending=True)\n",
    "print(\"prob_sort:\", prob_sort)\n",
    "print(\"prob_idx:\", prob_idx)\n",
    "\n",
    "cum_prob = torch.cumsum(prob_sort, dim=-1)\n",
    "print(\"cum_prob:\", cum_prob)\n",
    "\n",
    "p = 0.5\n",
    "print(\"p:\", p)\n",
    "diff = cum_prob - prob_sort\n",
    "print(\"diff:\", diff)\n",
    "mask = diff > p\n",
    "print(\"mask:\", mask)\n",
    "\n",
    "prob_sort[mask] = 0.0\n",
    "print(\"prob_sort after masking:\", prob_sort)\n",
    "prob_sort.div_(prob_sort.sum(dim=-1, keepdim=True))\n",
    "print(\"prob_sort after normalization:\", prob_sort)\n",
    "next_token = torch.multinomial(prob_sort, num_samples=1)\n",
    "print(\"next_token:\", next_token)\n",
    "next_token = torch.gather(prob_idx, -1, next_token)\n",
    "print(\"next_token:\", next_token)\n",
    "\n",
    "\n",
    "\n"
   ]
  },
  {
   "cell_type": "code",
   "execution_count": null,
   "metadata": {},
   "outputs": [],
   "source": []
  },
  {
   "cell_type": "code",
   "execution_count": null,
   "metadata": {},
   "outputs": [],
   "source": []
  }
 ],
 "metadata": {
  "kernelspec": {
   "display_name": "venv",
   "language": "python",
   "name": "python3"
  },
  "language_info": {
   "codemirror_mode": {
    "name": "ipython",
    "version": 3
   },
   "file_extension": ".py",
   "mimetype": "text/x-python",
   "name": "python",
   "nbconvert_exporter": "python",
   "pygments_lexer": "ipython3",
   "version": "3.12.8"
  }
 },
 "nbformat": 4,
 "nbformat_minor": 2
}
